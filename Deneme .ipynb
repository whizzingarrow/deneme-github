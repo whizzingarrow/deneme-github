{
 "cells": [
  {
   "cell_type": "markdown",
   "id": "0b111f7e",
   "metadata": {},
   "source": [
    "kaan "
   ]
  },
  {
   "cell_type": "code",
   "execution_count": 1,
   "id": "9b0942bf",
   "metadata": {},
   "outputs": [
    {
     "ename": "SyntaxError",
     "evalue": "invalid syntax (390382931.py, line 1)",
     "output_type": "error",
     "traceback": [
      "\u001b[0;36m  File \u001b[0;32m\"/var/folders/t0/lb565j3s0kvc3cllfm66yqz80000gn/T/ipykernel_34311/390382931.py\"\u001b[0;36m, line \u001b[0;32m1\u001b[0m\n\u001b[0;31m    selam naber ben kaan\u001b[0m\n\u001b[0m          ^\u001b[0m\n\u001b[0;31mSyntaxError\u001b[0m\u001b[0;31m:\u001b[0m invalid syntax\n"
     ]
    }
   ],
   "source": [
    "selam naber ben kaan "
   ]
  },
  {
   "cell_type": "code",
   "execution_count": 2,
   "id": "d55e6ff3",
   "metadata": {},
   "outputs": [
    {
     "ename": "NameError",
     "evalue": "name 'kaan' is not defined",
     "output_type": "error",
     "traceback": [
      "\u001b[0;31m---------------------------------------------------------------------------\u001b[0m",
      "\u001b[0;31mNameError\u001b[0m                                 Traceback (most recent call last)",
      "\u001b[0;32m/var/folders/t0/lb565j3s0kvc3cllfm66yqz80000gn/T/ipykernel_34311/3104879989.py\u001b[0m in \u001b[0;36m<module>\u001b[0;34m\u001b[0m\n\u001b[0;32m----> 1\u001b[0;31m \u001b[0mprint\u001b[0m\u001b[0;34m(\u001b[0m\u001b[0mkaan\u001b[0m\u001b[0;34m)\u001b[0m\u001b[0;34m\u001b[0m\u001b[0;34m\u001b[0m\u001b[0m\n\u001b[0m",
      "\u001b[0;31mNameError\u001b[0m: name 'kaan' is not defined"
     ]
    }
   ],
   "source": [
    "print(kaan)"
   ]
  },
  {
   "cell_type": "code",
   "execution_count": 3,
   "id": "f6efa7fc",
   "metadata": {},
   "outputs": [
    {
     "name": "stdout",
     "output_type": "stream",
     "text": [
      "kaan\n"
     ]
    }
   ],
   "source": [
    "print(\"kaan\")"
   ]
  },
  {
   "cell_type": "code",
   "execution_count": 4,
   "id": "96b61c9c",
   "metadata": {},
   "outputs": [
    {
     "name": "stdout",
     "output_type": "stream",
     "text": [
      "kaan\n",
      "kaan\n",
      "kaan\n"
     ]
    }
   ],
   "source": [
    "print(\"kaan\")\n",
    "print(\"kaan\")\n",
    "print(\"kaan\")"
   ]
  },
  {
   "cell_type": "code",
   "execution_count": null,
   "id": "24cced86",
   "metadata": {},
   "outputs": [],
   "source": []
  }
 ],
 "metadata": {
  "kernelspec": {
   "display_name": "Python 3 (ipykernel)",
   "language": "python",
   "name": "python3"
  },
  "language_info": {
   "codemirror_mode": {
    "name": "ipython",
    "version": 3
   },
   "file_extension": ".py",
   "mimetype": "text/x-python",
   "name": "python",
   "nbconvert_exporter": "python",
   "pygments_lexer": "ipython3",
   "version": "3.9.7"
  }
 },
 "nbformat": 4,
 "nbformat_minor": 5
}
