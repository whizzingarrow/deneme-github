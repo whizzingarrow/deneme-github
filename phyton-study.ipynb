{
 "cells": [
  {
   "cell_type": "markdown",
   "id": "ca182f02",
   "metadata": {},
   "source": [
    "# Matematik Operatörleri"
   ]
  },
  {
   "cell_type": "markdown",
   "id": "78a5254e",
   "metadata": {},
   "source": [
    "tam sayı - integer"
   ]
  },
  {
   "cell_type": "markdown",
   "id": "dc407761",
   "metadata": {},
   "source": [
    "ondalık sayı - float"
   ]
  },
  {
   "cell_type": "code",
   "execution_count": 98,
   "id": "419891cc",
   "metadata": {},
   "outputs": [],
   "source": [
    "x=5"
   ]
  },
  {
   "cell_type": "code",
   "execution_count": 99,
   "id": "8add54ff",
   "metadata": {},
   "outputs": [
    {
     "data": {
      "text/plain": [
       "7"
      ]
     },
     "execution_count": 99,
     "metadata": {},
     "output_type": "execute_result"
    }
   ],
   "source": [
    "x += 2\n",
    "x"
   ]
  },
  {
   "cell_type": "code",
   "execution_count": 101,
   "id": "c7f97cfd",
   "metadata": {},
   "outputs": [
    {
     "data": {
      "text/plain": [
       "28"
      ]
     },
     "execution_count": 101,
     "metadata": {},
     "output_type": "execute_result"
    }
   ],
   "source": [
    "x *= 2\n",
    "x"
   ]
  },
  {
   "cell_type": "code",
   "execution_count": null,
   "id": "0eb30c42",
   "metadata": {},
   "outputs": [],
   "source": [
    "a=37"
   ]
  },
  {
   "cell_type": "code",
   "execution_count": 88,
   "id": "9eebddcd",
   "metadata": {},
   "outputs": [],
   "source": [
    "b=23"
   ]
  },
  {
   "cell_type": "markdown",
   "id": "1b66501b",
   "metadata": {},
   "source": [
    "// tamsayı bölmesi"
   ]
  },
  {
   "cell_type": "code",
   "execution_count": 89,
   "id": "27b5d30b",
   "metadata": {},
   "outputs": [
    {
     "data": {
      "text/plain": [
       "1"
      ]
     },
     "execution_count": 89,
     "metadata": {},
     "output_type": "execute_result"
    }
   ],
   "source": [
    "a//b"
   ]
  },
  {
   "cell_type": "markdown",
   "id": "11032460",
   "metadata": {},
   "source": [
    "% kalanı bulma"
   ]
  },
  {
   "cell_type": "code",
   "execution_count": 90,
   "id": "db8955bf",
   "metadata": {},
   "outputs": [
    {
     "data": {
      "text/plain": [
       "14"
      ]
     },
     "execution_count": 90,
     "metadata": {},
     "output_type": "execute_result"
    }
   ],
   "source": [
    "a%b"
   ]
  },
  {
   "cell_type": "markdown",
   "id": "880a68a3",
   "metadata": {},
   "source": [
    "** üs bulma"
   ]
  },
  {
   "cell_type": "code",
   "execution_count": 92,
   "id": "9e940e8d",
   "metadata": {},
   "outputs": [
    {
     "data": {
      "text/plain": [
       "1171223165167387672982838813062831053"
      ]
     },
     "execution_count": 92,
     "metadata": {},
     "output_type": "execute_result"
    }
   ],
   "source": [
    "a**b"
   ]
  },
  {
   "cell_type": "markdown",
   "id": "442f6513",
   "metadata": {},
   "source": [
    "** 0.5 karekök"
   ]
  },
  {
   "cell_type": "code",
   "execution_count": 93,
   "id": "14bce97b",
   "metadata": {},
   "outputs": [
    {
     "data": {
      "text/plain": [
       "4.0"
      ]
     },
     "execution_count": 93,
     "metadata": {},
     "output_type": "execute_result"
    }
   ],
   "source": [
    "16**0.5"
   ]
  },
  {
   "cell_type": "code",
   "execution_count": 94,
   "id": "181b43fd",
   "metadata": {},
   "outputs": [
    {
     "data": {
      "text/plain": [
       "2.0"
      ]
     },
     "execution_count": 94,
     "metadata": {},
     "output_type": "execute_result"
    }
   ],
   "source": [
    "16**0.25"
   ]
  },
  {
   "cell_type": "code",
   "execution_count": null,
   "id": "7a6f1d48",
   "metadata": {},
   "outputs": [],
   "source": []
  },
  {
   "cell_type": "markdown",
   "id": "1446f1f9",
   "metadata": {},
   "source": [
    "# String (Karakter Dizileri)"
   ]
  },
  {
   "cell_type": "code",
   "execution_count": 102,
   "id": "dd860b16",
   "metadata": {},
   "outputs": [
    {
     "data": {
      "text/plain": [
       "'kaan'"
      ]
     },
     "execution_count": 102,
     "metadata": {},
     "output_type": "execute_result"
    }
   ],
   "source": [
    "\"kaan\""
   ]
  },
  {
   "cell_type": "code",
   "execution_count": 103,
   "id": "65f6b2c4",
   "metadata": {},
   "outputs": [
    {
     "data": {
      "text/plain": [
       "'kaan'"
      ]
     },
     "execution_count": 103,
     "metadata": {},
     "output_type": "execute_result"
    }
   ],
   "source": [
    "'kaan'"
   ]
  },
  {
   "cell_type": "code",
   "execution_count": 104,
   "id": "8a015646",
   "metadata": {},
   "outputs": [
    {
     "data": {
      "text/plain": [
       "\"kaan'ın bilgisayarı\""
      ]
     },
     "execution_count": 104,
     "metadata": {},
     "output_type": "execute_result"
    }
   ],
   "source": [
    "\"kaan'ın bilgisayarı\""
   ]
  },
  {
   "cell_type": "code",
   "execution_count": 105,
   "id": "3dbca8ed",
   "metadata": {},
   "outputs": [
    {
     "data": {
      "text/plain": [
       "\"kaan'ın bilgisayarı\""
      ]
     },
     "execution_count": 105,
     "metadata": {},
     "output_type": "execute_result"
    }
   ],
   "source": [
    "'kaan\\'ın bilgisayarı'"
   ]
  },
  {
   "cell_type": "markdown",
   "id": "f4142e71",
   "metadata": {},
   "source": [
    "\\ kaçış dizisi"
   ]
  },
  {
   "cell_type": "markdown",
   "id": "bc1bfd5e",
   "metadata": {},
   "source": [
    "indeksler 0'dan başlar"
   ]
  },
  {
   "cell_type": "code",
   "execution_count": 108,
   "id": "a3be6b51",
   "metadata": {},
   "outputs": [],
   "source": [
    "a = \"kitap\""
   ]
  },
  {
   "cell_type": "code",
   "execution_count": 109,
   "id": "2e0dd6e8",
   "metadata": {},
   "outputs": [
    {
     "data": {
      "text/plain": [
       "'k'"
      ]
     },
     "execution_count": 109,
     "metadata": {},
     "output_type": "execute_result"
    }
   ],
   "source": [
    "a[0]"
   ]
  },
  {
   "cell_type": "code",
   "execution_count": 110,
   "id": "a8b086fe",
   "metadata": {},
   "outputs": [
    {
     "data": {
      "text/plain": [
       "'i'"
      ]
     },
     "execution_count": 110,
     "metadata": {},
     "output_type": "execute_result"
    }
   ],
   "source": [
    "a[1]"
   ]
  },
  {
   "cell_type": "code",
   "execution_count": 111,
   "id": "c5065641",
   "metadata": {},
   "outputs": [
    {
     "data": {
      "text/plain": [
       "'t'"
      ]
     },
     "execution_count": 111,
     "metadata": {},
     "output_type": "execute_result"
    }
   ],
   "source": [
    "a[2]"
   ]
  },
  {
   "cell_type": "markdown",
   "id": "4587451e",
   "metadata": {},
   "source": [
    "sondan indeksleme"
   ]
  },
  {
   "cell_type": "code",
   "execution_count": 112,
   "id": "744e1c81",
   "metadata": {},
   "outputs": [
    {
     "data": {
      "text/plain": [
       "'t'"
      ]
     },
     "execution_count": 112,
     "metadata": {},
     "output_type": "execute_result"
    }
   ],
   "source": [
    "a[-3]"
   ]
  },
  {
   "cell_type": "markdown",
   "id": "7e96d0b2",
   "metadata": {},
   "source": [
    "string parçalama\n",
    "[başlama indeksi : bitiş indeksi : atlama indeksi]"
   ]
  },
  {
   "cell_type": "code",
   "execution_count": 116,
   "id": "ad51452c",
   "metadata": {},
   "outputs": [],
   "source": [
    "a = \"phyton programlama dili\""
   ]
  },
  {
   "cell_type": "code",
   "execution_count": 117,
   "id": "792580b1",
   "metadata": {},
   "outputs": [
    {
     "data": {
      "text/plain": [
       "'on pro'"
      ]
     },
     "execution_count": 117,
     "metadata": {},
     "output_type": "execute_result"
    }
   ],
   "source": [
    "a[4:10]"
   ]
  },
  {
   "cell_type": "markdown",
   "id": "6768d74e",
   "metadata": {},
   "source": [
    "4 dahil olur 10 dahil olmaz"
   ]
  },
  {
   "cell_type": "code",
   "execution_count": 118,
   "id": "f2e36d87",
   "metadata": {},
   "outputs": [
    {
     "data": {
      "text/plain": [
       "'phyton pro'"
      ]
     },
     "execution_count": 118,
     "metadata": {},
     "output_type": "execute_result"
    }
   ],
   "source": [
    "a[:10]"
   ]
  },
  {
   "cell_type": "code",
   "execution_count": 119,
   "id": "c4c26392",
   "metadata": {},
   "outputs": [
    {
     "data": {
      "text/plain": [
       "'on programlama dili'"
      ]
     },
     "execution_count": 119,
     "metadata": {},
     "output_type": "execute_result"
    }
   ],
   "source": [
    "a[4:]"
   ]
  },
  {
   "cell_type": "code",
   "execution_count": 120,
   "id": "f5d980b6",
   "metadata": {},
   "outputs": [
    {
     "data": {
      "text/plain": [
       "'phyton programlama dili'"
      ]
     },
     "execution_count": 120,
     "metadata": {},
     "output_type": "execute_result"
    }
   ],
   "source": [
    "a[:]"
   ]
  },
  {
   "cell_type": "code",
   "execution_count": 121,
   "id": "83e77765",
   "metadata": {},
   "outputs": [
    {
     "data": {
      "text/plain": [
       "'phyton programlama dil'"
      ]
     },
     "execution_count": 121,
     "metadata": {},
     "output_type": "execute_result"
    }
   ],
   "source": [
    "a[:-1]"
   ]
  },
  {
   "cell_type": "code",
   "execution_count": 122,
   "id": "ef372637",
   "metadata": {},
   "outputs": [
    {
     "data": {
      "text/plain": [
       "'pyo rgalm ii'"
      ]
     },
     "execution_count": 122,
     "metadata": {},
     "output_type": "execute_result"
    }
   ],
   "source": [
    "a[::2]"
   ]
  },
  {
   "cell_type": "code",
   "execution_count": 123,
   "id": "4459d64d",
   "metadata": {},
   "outputs": [
    {
     "data": {
      "text/plain": [
       "'pt oaa l'"
      ]
     },
     "execution_count": 123,
     "metadata": {},
     "output_type": "execute_result"
    }
   ],
   "source": [
    "a[::3]"
   ]
  },
  {
   "cell_type": "code",
   "execution_count": 124,
   "id": "b5742069",
   "metadata": {},
   "outputs": [
    {
     "data": {
      "text/plain": [
       "'o rg'"
      ]
     },
     "execution_count": 124,
     "metadata": {},
     "output_type": "execute_result"
    }
   ],
   "source": [
    "a[4:12:2]"
   ]
  },
  {
   "cell_type": "code",
   "execution_count": 125,
   "id": "f429afdd",
   "metadata": {},
   "outputs": [
    {
     "data": {
      "text/plain": [
       "'ilid amalmargorp notyhp'"
      ]
     },
     "execution_count": 125,
     "metadata": {},
     "output_type": "execute_result"
    }
   ],
   "source": [
    "a[::-1]"
   ]
  },
  {
   "cell_type": "code",
   "execution_count": null,
   "id": "cc4691b7",
   "metadata": {},
   "outputs": [],
   "source": []
  },
  {
   "cell_type": "markdown",
   "id": "74cbdf77",
   "metadata": {},
   "source": [
    "# String Özellikleri "
   ]
  },
  {
   "cell_type": "code",
   "execution_count": 126,
   "id": "58794b55",
   "metadata": {},
   "outputs": [
    {
     "data": {
      "text/plain": [
       "'anatomi'"
      ]
     },
     "execution_count": 126,
     "metadata": {},
     "output_type": "execute_result"
    }
   ],
   "source": [
    "a = \"anatomi\"\n",
    "a"
   ]
  },
  {
   "cell_type": "markdown",
   "id": "bd9b363b",
   "metadata": {},
   "source": [
    "uzunluk hesaplama\n",
    "len(a)"
   ]
  },
  {
   "cell_type": "code",
   "execution_count": 129,
   "id": "5c76c28e",
   "metadata": {},
   "outputs": [
    {
     "data": {
      "text/plain": [
       "7"
      ]
     },
     "execution_count": 129,
     "metadata": {},
     "output_type": "execute_result"
    }
   ],
   "source": [
    "len(a)"
   ]
  },
  {
   "cell_type": "code",
   "execution_count": 131,
   "id": "a33c19a8",
   "metadata": {},
   "outputs": [
    {
     "ename": "TypeError",
     "evalue": "'str' object does not support item assignment",
     "output_type": "error",
     "traceback": [
      "\u001b[0;31m---------------------------------------------------------------------------\u001b[0m",
      "\u001b[0;31mTypeError\u001b[0m                                 Traceback (most recent call last)",
      "\u001b[0;32m/var/folders/t0/lb565j3s0kvc3cllfm66yqz80000gn/T/ipykernel_37224/2140241127.py\u001b[0m in \u001b[0;36m<module>\u001b[0;34m\u001b[0m\n\u001b[0;32m----> 1\u001b[0;31m \u001b[0ma\u001b[0m\u001b[0;34m[\u001b[0m\u001b[0;36m7\u001b[0m\u001b[0;34m]\u001b[0m\u001b[0;34m=\u001b[0m\u001b[0;34m\"y\"\u001b[0m\u001b[0;34m\u001b[0m\u001b[0;34m\u001b[0m\u001b[0m\n\u001b[0m",
      "\u001b[0;31mTypeError\u001b[0m: 'str' object does not support item assignment"
     ]
    }
   ],
   "source": [
    "a[7]=\"y\""
   ]
  },
  {
   "cell_type": "markdown",
   "id": "9e025593",
   "metadata": {},
   "source": [
    "stringler doğrudan değiştirilemez"
   ]
  },
  {
   "cell_type": "code",
   "execution_count": 143,
   "id": "9470b389",
   "metadata": {},
   "outputs": [],
   "source": [
    "x = \"benim\""
   ]
  },
  {
   "cell_type": "code",
   "execution_count": 144,
   "id": "fc8bce6f",
   "metadata": {},
   "outputs": [],
   "source": [
    "y = \"adım\""
   ]
  },
  {
   "cell_type": "code",
   "execution_count": 145,
   "id": "9af1f0f5",
   "metadata": {},
   "outputs": [],
   "source": [
    "z = \"kaan\""
   ]
  },
  {
   "cell_type": "code",
   "execution_count": 146,
   "id": "e8caf871",
   "metadata": {},
   "outputs": [
    {
     "data": {
      "text/plain": [
       "'benimadımkaan'"
      ]
     },
     "execution_count": 146,
     "metadata": {},
     "output_type": "execute_result"
    }
   ],
   "source": [
    "x + y + z"
   ]
  },
  {
   "cell_type": "code",
   "execution_count": 147,
   "id": "dd039f3d",
   "metadata": {},
   "outputs": [
    {
     "data": {
      "text/plain": [
       "'benimbenimbenim'"
      ]
     },
     "execution_count": 147,
     "metadata": {},
     "output_type": "execute_result"
    }
   ],
   "source": [
    "x * 3"
   ]
  },
  {
   "cell_type": "code",
   "execution_count": 149,
   "id": "ac6ae16b",
   "metadata": {},
   "outputs": [
    {
     "data": {
      "text/plain": [
       "'kaankaankaan'"
      ]
     },
     "execution_count": 149,
     "metadata": {},
     "output_type": "execute_result"
    }
   ],
   "source": [
    "\"kaan\" * 3"
   ]
  },
  {
   "cell_type": "code",
   "execution_count": 156,
   "id": "84216ba7",
   "metadata": {},
   "outputs": [],
   "source": [
    "a = \"benim adım \""
   ]
  },
  {
   "cell_type": "code",
   "execution_count": 157,
   "id": "e0121686",
   "metadata": {},
   "outputs": [],
   "source": [
    "a = a + \"kaan\""
   ]
  },
  {
   "cell_type": "code",
   "execution_count": 158,
   "id": "a2d4d287",
   "metadata": {},
   "outputs": [
    {
     "data": {
      "text/plain": [
       "'benim adım kaan'"
      ]
     },
     "execution_count": 158,
     "metadata": {},
     "output_type": "execute_result"
    }
   ],
   "source": [
    "a"
   ]
  },
  {
   "cell_type": "code",
   "execution_count": null,
   "id": "45fb1360",
   "metadata": {},
   "outputs": [],
   "source": []
  },
  {
   "cell_type": "code",
   "execution_count": null,
   "id": "9ab74ac1",
   "metadata": {},
   "outputs": [],
   "source": []
  }
 ],
 "metadata": {
  "kernelspec": {
   "display_name": "Python 3 (ipykernel)",
   "language": "python",
   "name": "python3"
  },
  "language_info": {
   "codemirror_mode": {
    "name": "ipython",
    "version": 3
   },
   "file_extension": ".py",
   "mimetype": "text/x-python",
   "name": "python",
   "nbconvert_exporter": "python",
   "pygments_lexer": "ipython3",
   "version": "3.9.7"
  }
 },
 "nbformat": 4,
 "nbformat_minor": 5
}
